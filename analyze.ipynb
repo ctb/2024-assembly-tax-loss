{
 "cells": [
  {
   "cell_type": "code",
   "execution_count": 1,
   "id": "4f70f94a",
   "metadata": {},
   "outputs": [
    {
     "name": "stdout",
     "output_type": "stream",
     "text": [
      "SRR11125758.gather.with-lineages.csv  Snakefile~\r\n",
      "SRR11183406.gather.with-lineages.csv  analyze.ipynb\r\n",
      "SRR19906171.gather.with-lineages.csv  \u001b[0m\u001b[01;34moutputs\u001b[0m/\r\n",
      "SRR22460774.gather.with-lineages.csv  sra-list.txt\r\n",
      "Snakefile\r\n"
     ]
    }
   ],
   "source": [
    "ls"
   ]
  },
  {
   "cell_type": "code",
   "execution_count": 2,
   "id": "a57637a4",
   "metadata": {},
   "outputs": [
    {
     "name": "stdout",
     "output_type": "stream",
     "text": [
      "outputs/raw/SRR11124890.gather.csv  outputs/raw/SRR11183406.gather.csv\r\n",
      "outputs/raw/SRR11125758.gather.csv  outputs/raw/SRR16235693.gather.csv\r\n",
      "outputs/raw/SRR11125888.gather.csv  outputs/raw/SRR19906171.gather.csv\r\n",
      "outputs/raw/SRR11126167.gather.csv  outputs/raw/SRR22460774.gather.csv\r\n",
      "outputs/raw/SRR11126428.gather.csv\r\n"
     ]
    }
   ],
   "source": [
    "ls outputs/raw/*.gather.csv"
   ]
  },
  {
   "cell_type": "code",
   "execution_count": 3,
   "id": "de6bbd7f",
   "metadata": {},
   "outputs": [
    {
     "name": "stdout",
     "output_type": "stream",
     "text": [
      "outputs/asm/SRR11124890.gather.with-lineages.csv\r\n",
      "outputs/asm/SRR11125758.gather.with-lineages.csv\r\n",
      "outputs/asm/SRR11125888.gather.with-lineages.csv\r\n",
      "outputs/asm/SRR11126167.gather.with-lineages.csv\r\n",
      "outputs/asm/SRR11126428.gather.with-lineages.csv\r\n",
      "outputs/asm/SRR11183406.gather.with-lineages.csv\r\n",
      "outputs/asm/SRR16235693.gather.with-lineages.csv\r\n",
      "outputs/asm/SRR19906171.gather.with-lineages.csv\r\n",
      "outputs/asm/SRR22460774.gather.with-lineages.csv\r\n"
     ]
    }
   ],
   "source": [
    "ls outputs/asm/*.with-lineages.csv"
   ]
  },
  {
   "cell_type": "code",
   "execution_count": 4,
   "id": "8892d859",
   "metadata": {},
   "outputs": [],
   "source": [
    "import pandas as pd\n",
    "from matplotlib_venn import venn2"
   ]
  },
  {
   "cell_type": "code",
   "execution_count": 29,
   "id": "44243673",
   "metadata": {},
   "outputs": [],
   "source": [
    "acc = \"SRR11126167\"\n",
    "\n",
    "asm_df = pd.read_csv(f'outputs/asm/{acc}.gather.with-lineages.csv')\n",
    "raw_df = pd.read_csv(f'outputs/raw/{acc}.gather.with-lineages.csv')"
   ]
  },
  {
   "cell_type": "code",
   "execution_count": 30,
   "id": "8f2aa8d4",
   "metadata": {},
   "outputs": [
    {
     "name": "stdout",
     "output_type": "stream",
     "text": [
      "25\n",
      "539\n"
     ]
    }
   ],
   "source": [
    "print(len(asm_df))\n",
    "print(len(raw_df))"
   ]
  },
  {
   "cell_type": "code",
   "execution_count": 31,
   "id": "3fa94470",
   "metadata": {},
   "outputs": [],
   "source": [
    "def get_species(lineage_str):\n",
    "    species = lineage_str.split(';')[-1]\n",
    "    assert species.startswith('s__')\n",
    "    return species\n",
    "\n",
    "def get_genus(lineage_str):\n",
    "    genus = lineage_str.split(';')[-2]\n",
    "    assert genus.startswith('g__')\n",
    "    return genus"
   ]
  },
  {
   "cell_type": "code",
   "execution_count": 32,
   "id": "3feef573",
   "metadata": {},
   "outputs": [],
   "source": [
    "raw_df['species'] = raw_df['lineage'].apply(get_species)\n",
    "asm_df['species'] = asm_df['lineage'].apply(get_species)\n",
    "\n",
    "raw_df['genus'] = raw_df['lineage'].apply(get_genus)\n",
    "asm_df['genus'] = asm_df['lineage'].apply(get_genus)\n"
   ]
  },
  {
   "cell_type": "code",
   "execution_count": 33,
   "id": "d4027fa5",
   "metadata": {},
   "outputs": [],
   "source": [
    "raw_species = set(raw_df['species'])\n",
    "asm_species = set(asm_df['species'])\n",
    "\n",
    "raw_genus = set(raw_df['genus'])\n",
    "asm_genus = set(asm_df['genus'])"
   ]
  },
  {
   "cell_type": "code",
   "execution_count": 34,
   "id": "403d818e",
   "metadata": {},
   "outputs": [
    {
     "data": {
      "text/plain": [
       "{'s__Azonexus sp009469585'}"
      ]
     },
     "execution_count": 34,
     "metadata": {},
     "output_type": "execute_result"
    }
   ],
   "source": [
    "asm_species - raw_species"
   ]
  },
  {
   "cell_type": "code",
   "execution_count": 35,
   "id": "b4583395",
   "metadata": {},
   "outputs": [
    {
     "data": {
      "text/plain": [
       "<matplotlib_venn._common.VennDiagram at 0x7f80af05dc10>"
      ]
     },
     "execution_count": 35,
     "metadata": {},
     "output_type": "execute_result"
    },
    {
     "data": {
      "image/png": "[encoded data removed]",
      "text/plain": [
       "<Figure size 640x480 with 1 Axes>"
      ]
     },
     "metadata": {},
     "output_type": "display_data"
    }
   ],
   "source": [
    "venn2([raw_species, asm_species])"
   ]
  },
  {
   "cell_type": "code",
   "execution_count": 36,
   "id": "c541a6a8",
   "metadata": {},
   "outputs": [
    {
     "data": {
      "text/plain": [
       "<matplotlib_venn._common.VennDiagram at 0x7f80af053610>"
      ]
     },
     "execution_count": 36,
     "metadata": {},
     "output_type": "execute_result"
    },
    {
     "data": {
      "image/png": "[encoded data removed]",
      "text/plain": [
       "<Figure size 640x480 with 1 Axes>"
      ]
     },
     "metadata": {},
     "output_type": "display_data"
    }
   ],
   "source": [
    "venn2([raw_genus, asm_genus])"
   ]
  },
  {
   "cell_type": "code",
   "execution_count": 44,
   "id": "ad00d5b4",
   "metadata": {},
   "outputs": [
    {
     "data": {
      "text/plain": [
       "(4.456824512534819, 7.246376811594203)"
      ]
     },
     "execution_count": 44,
     "metadata": {},
     "output_type": "execute_result"
    }
   ],
   "source": [
    "def jaccard_twixt_asm_raw(acc):\n",
    "    asm_df = pd.read_csv(f'outputs/asm/{acc}.gather.with-lineages.csv')\n",
    "    raw_df = pd.read_csv(f'outputs/raw/{acc}.gather.with-lineages.csv')\n",
    "    \n",
    "    raw_df['species'] = raw_df['lineage'].apply(get_species)\n",
    "    asm_df['species'] = asm_df['lineage'].apply(get_species)\n",
    "\n",
    "    raw_df['genus'] = raw_df['lineage'].apply(get_genus)\n",
    "    asm_df['genus'] = asm_df['lineage'].apply(get_genus)\n",
    "    \n",
    "    raw_species = set(raw_df['species'])\n",
    "    asm_species = set(asm_df['species'])\n",
    "\n",
    "    raw_genus = set(raw_df['genus'])\n",
    "    asm_genus = set(asm_df['genus'])\n",
    "    \n",
    "    jaccard_genus = len(raw_genus.intersection(asm_genus)) / len(raw_genus.union(asm_genus)) * 100\n",
    "    jaccard_species = len(raw_species.intersection(asm_species)) / len(raw_species.union(asm_species)) * 100\n",
    "    \n",
    "    return jaccard_species, jaccard_genus\n",
    "\n",
    "jaccard_twixt_asm_raw('SRR11126167')"
   ]
  },
  {
   "cell_type": "code",
   "execution_count": 45,
   "id": "05ad035f",
   "metadata": {},
   "outputs": [],
   "source": [
    "SRA_ACC=\"\"\"SRR16235693                                                          \n",
    "SRR11124890                                                                     \n",
    "SRR11183406                                                                     \n",
    "SRR11126167    \n",
    "SRR22460774                                                      \n",
    "SRR11125758                          \n",
    "SRR11125888                                                                     \n",
    "SRR11126428                                                                     \n",
    "SRR19906171                                                                     \n",
    "\"\"\".splitlines()\n",
    "SRA_ACC = [ x.strip() for x in SRA_ACC ]\n"
   ]
  },
  {
   "cell_type": "code",
   "execution_count": 52,
   "id": "8c2ac39c",
   "metadata": {},
   "outputs": [
    {
     "data": {
      "text/html": [
       "<div>\n",
       "<style scoped>\n",
       "    .dataframe tbody tr th:only-of-type {\n",
       "        vertical-align: middle;\n",
       "    }\n",
       "\n",
       "    .dataframe tbody tr th {\n",
       "        vertical-align: top;\n",
       "    }\n",
       "\n",
       "    .dataframe thead th {\n",
       "        text-align: right;\n",
       "    }\n",
       "</style>\n",
       "<table border=\"1\" class=\"dataframe\">\n",
       "  <thead>\n",
       "    <tr style=\"text-align: right;\">\n",
       "      <th></th>\n",
       "      <th>acc</th>\n",
       "      <th>species</th>\n",
       "      <th>genus</th>\n",
       "    </tr>\n",
       "  </thead>\n",
       "  <tbody>\n",
       "    <tr>\n",
       "      <th>0</th>\n",
       "      <td>SRR16235693</td>\n",
       "      <td>34.408602</td>\n",
       "      <td>40.196078</td>\n",
       "    </tr>\n",
       "    <tr>\n",
       "      <th>1</th>\n",
       "      <td>SRR11124890</td>\n",
       "      <td>1.072386</td>\n",
       "      <td>2.000000</td>\n",
       "    </tr>\n",
       "    <tr>\n",
       "      <th>2</th>\n",
       "      <td>SRR11183406</td>\n",
       "      <td>3.232759</td>\n",
       "      <td>4.508197</td>\n",
       "    </tr>\n",
       "    <tr>\n",
       "      <th>3</th>\n",
       "      <td>SRR11126167</td>\n",
       "      <td>4.456825</td>\n",
       "      <td>7.246377</td>\n",
       "    </tr>\n",
       "    <tr>\n",
       "      <th>4</th>\n",
       "      <td>SRR22460774</td>\n",
       "      <td>7.909605</td>\n",
       "      <td>11.290323</td>\n",
       "    </tr>\n",
       "    <tr>\n",
       "      <th>5</th>\n",
       "      <td>SRR11125758</td>\n",
       "      <td>4.278075</td>\n",
       "      <td>6.349206</td>\n",
       "    </tr>\n",
       "    <tr>\n",
       "      <th>6</th>\n",
       "      <td>SRR11125888</td>\n",
       "      <td>3.669725</td>\n",
       "      <td>5.970149</td>\n",
       "    </tr>\n",
       "    <tr>\n",
       "      <th>7</th>\n",
       "      <td>SRR11126428</td>\n",
       "      <td>6.842105</td>\n",
       "      <td>9.859155</td>\n",
       "    </tr>\n",
       "    <tr>\n",
       "      <th>8</th>\n",
       "      <td>SRR19906171</td>\n",
       "      <td>18.691589</td>\n",
       "      <td>29.787234</td>\n",
       "    </tr>\n",
       "  </tbody>\n",
       "</table>\n",
       "</div>"
      ],
      "text/plain": [
       "           acc    species      genus\n",
       "0  SRR16235693  34.408602  40.196078\n",
       "1  SRR11124890   1.072386   2.000000\n",
       "2  SRR11183406   3.232759   4.508197\n",
       "3  SRR11126167   4.456825   7.246377\n",
       "4  SRR22460774   7.909605  11.290323\n",
       "5  SRR11125758   4.278075   6.349206\n",
       "6  SRR11125888   3.669725   5.970149\n",
       "7  SRR11126428   6.842105   9.859155\n",
       "8  SRR19906171  18.691589  29.787234"
      ]
     },
     "execution_count": 52,
     "metadata": {},
     "output_type": "execute_result"
    }
   ],
   "source": [
    "x = []\n",
    "for acc in SRA_ACC:\n",
    "    jaccard_species, jaccard_genus = jaccard_twixt_asm_raw(acc)\n",
    "    x.append(dict(acc=acc, species=jaccard_species, genus=jaccard_genus))\n",
    "    \n",
    "jaccard_df = pd.DataFrame.from_dict(x)\n",
    "#print(jaccard_df.sort_values(by='genus').to_markdown())\n",
    "jaccard_df\n"
   ]
  },
  {
   "cell_type": "code",
   "execution_count": null,
   "id": "cde035be",
   "metadata": {},
   "outputs": [],
   "source": []
  }
 ],
 "metadata": {
  "kernelspec": {
   "display_name": "sourmash-dev",
   "language": "python",
   "name": "sourmash-dev"
  },
  "language_info": {
   "codemirror_mode": {
    "name": "ipython",
    "version": 3
   },
   "file_extension": ".py",
   "mimetype": "text/x-python",
   "name": "python",
   "nbconvert_exporter": "python",
   "pygments_lexer": "ipython3",
   "version": "3.11.7"
  }
 },
 "nbformat": 4,
 "nbformat_minor": 5
}
